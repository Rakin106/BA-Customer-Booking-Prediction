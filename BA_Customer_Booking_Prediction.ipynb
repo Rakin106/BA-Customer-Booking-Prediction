{
  "nbformat": 4,
  "nbformat_minor": 0,
  "metadata": {
    "colab": {
      "provenance": [],
      "authorship_tag": "ABX9TyMJPhB/JKRkHH8+GaTRJ93C"
    },
    "kernelspec": {
      "name": "python3",
      "display_name": "Python 3"
    },
    "language_info": {
      "name": "python"
    }
  },
  "cells": [
    {
      "cell_type": "code",
      "execution_count": null,
      "metadata": {
        "id": "gB7vEeeZQp2t"
      },
      "outputs": [],
      "source": []
    }
  ]
}